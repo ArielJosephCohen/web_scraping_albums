{
 "cells": [
  {
   "cell_type": "code",
   "execution_count": 1,
   "metadata": {},
   "outputs": [],
   "source": [
    "#imports\n",
    "import requests\n",
    "import urllib.request\n",
    "import time\n",
    "from bs4 import BeautifulSoup\n",
    "import numpy as np\n",
    "import pandas as pd\n",
    "from urllib.request import urlopen\n",
    "# getting ready to work with wikipedia - will be using pink floyd the wall as template\n",
    "url = 'https://en.wikipedia.org/wiki/The_Wall'\n",
    "html = urlopen(url) \n",
    "soup = BeautifulSoup(html, 'html.parser')"
   ]
  },
  {
   "cell_type": "code",
   "execution_count": 2,
   "metadata": {},
   "outputs": [],
   "source": [
    "# assigning the backend code to a variable\n",
    "a=soup.find_all('table',class_='tracklist')"
   ]
  },
  {
   "cell_type": "code",
   "execution_count": 3,
   "metadata": {},
   "outputs": [
    {
     "data": {
      "text/plain": [
       "[<table class=\"tracklist\" style=\"display:block;border-spacing:0px\"><caption class=\"tlheader mbox-text\" style=\"text-align:left;background-color:#fff;font-weight:700\">Side one/Disc one</caption><tbody><tr><th class=\"tlheader\" scope=\"col\" style=\"width:2em;padding-left:10px;padding-right:10px;text-align:right;background-color:#eee\"><abbr title=\"Number\">No.</abbr></th><th class=\"tlheader\" scope=\"col\" style=\"width:60%;text-align:left;background-color:#eee\">Title</th><th class=\"tlheader\" scope=\"col\" style=\"width:40%;text-align:left;background-color:#eee\">Lead vocals</th><th class=\"tlheader\" scope=\"col\" style=\"width:4em;padding-right:10px;text-align:right;background-color:#eee\">Length</th></tr><tr style=\"background-color:#fff\"><td style=\"padding-right:10px;text-align:right;vertical-align:top\">1.</td><td style=\"vertical-align:top\">\"<a href=\"/wiki/In_the_Flesh%3F\" title=\"In the Flesh?\">In the Flesh?</a>\"</td><td style=\"vertical-align:top\">Waters</td><td style=\"padding-right:10px;text-align:right;vertical-align:top\">3:16</td></tr><tr style=\"background-color:#f7f7f7\"><td style=\"padding-right:10px;text-align:right;vertical-align:top\">2.</td><td style=\"vertical-align:top\">\"<a href=\"/wiki/The_Thin_Ice\" title=\"The Thin Ice\">The Thin Ice</a>\"</td><td style=\"vertical-align:top\"><div class=\"hlist hlist-separated\">\n",
       " <ul><li>Waters</li>\n",
       " <li><a href=\"/wiki/David_Gilmour\" title=\"David Gilmour\">David Gilmour</a></li></ul>\n",
       " </div></td><td style=\"padding-right:10px;text-align:right;vertical-align:top\">2:27</td></tr><tr style=\"background-color:#fff\"><td style=\"padding-right:10px;text-align:right;vertical-align:top\">3.</td><td style=\"vertical-align:top\">\"<a href=\"/wiki/Another_Brick_in_the_Wall#Part_1\" title=\"Another Brick in the Wall\">Another Brick in the Wall, Part 1</a>\"</td><td style=\"vertical-align:top\">Waters</td><td style=\"padding-right:10px;text-align:right;vertical-align:top\">3:11</td></tr><tr style=\"background-color:#f7f7f7\"><td style=\"padding-right:10px;text-align:right;vertical-align:top\">4.</td><td style=\"vertical-align:top\">\"<a href=\"/wiki/The_Happiest_Days_of_Our_Lives\" title=\"The Happiest Days of Our Lives\">The Happiest Days of Our Lives</a>\"</td><td style=\"vertical-align:top\">Waters</td><td style=\"padding-right:10px;text-align:right;vertical-align:top\">1:46</td></tr><tr style=\"background-color:#fff\"><td style=\"padding-right:10px;text-align:right;vertical-align:top\">5.</td><td style=\"vertical-align:top\">\"<span class=\"nowrap\"><a href=\"/wiki/Another_Brick_in_the_Wall#Part_2\" title=\"Another Brick in the Wall\">Another Brick in the Wall, Part 2</a></span>\"</td><td style=\"vertical-align:top\"><div class=\"hlist hlist-separated\">\n",
       " <ul><li>Waters</li>\n",
       " <li>Gilmour</li></ul>\n",
       " </div></td><td style=\"padding-right:10px;text-align:right;vertical-align:top\">3:59</td></tr><tr style=\"background-color:#f7f7f7\"><td style=\"padding-right:10px;text-align:right;vertical-align:top\">6.</td><td style=\"vertical-align:top\">\"<a href=\"/wiki/Mother_(Pink_Floyd_song)\" title=\"Mother (Pink Floyd song)\">Mother</a>\"</td><td style=\"vertical-align:top\"><div class=\"hlist hlist-separated\">\n",
       " <ul><li>Waters</li>\n",
       " <li>Gilmour</li></ul>\n",
       " </div></td><td style=\"padding-right:10px;text-align:right;vertical-align:top\">5:32</td></tr><tr><td colspan=\"3\" style=\"padding:0\"><span style=\"width:7.5em;float:right;padding-left:10px;background-color:#eee;margin-right:2px\"><b>Total length:</b></span></td><td style=\"padding:0 10px 0 0;text-align:right;background-color:#eee\"><b>20:11</b></td></tr></tbody></table>,\n",
       " <table class=\"tracklist\" style=\"display:block;border-spacing:0px\"><caption class=\"tlheader mbox-text\" style=\"text-align:left;background-color:#fff;font-weight:700\">Side two/Disc one</caption><tbody><tr><th class=\"tlheader\" scope=\"col\" style=\"width:2em;padding-left:10px;padding-right:10px;text-align:right;background-color:#eee\"><abbr title=\"Number\">No.</abbr></th><th class=\"tlheader\" scope=\"col\" style=\"width:60%;text-align:left;background-color:#eee\">Title</th><th class=\"tlheader\" scope=\"col\" style=\"width:40%;text-align:left;background-color:#eee\"><span class=\"nowrap\">Lead vocals</span></th><th class=\"tlheader\" scope=\"col\" style=\"width:4em;padding-right:10px;text-align:right;background-color:#eee\">Length</th></tr><tr style=\"background-color:#fff\"><td style=\"padding-right:10px;text-align:right;vertical-align:top\">1.</td><td style=\"vertical-align:top\">\"<a href=\"/wiki/Goodbye_Blue_Sky\" title=\"Goodbye Blue Sky\">Goodbye Blue Sky</a>\"</td><td style=\"vertical-align:top\">Gilmour</td><td style=\"padding-right:10px;text-align:right;vertical-align:top\">2:45</td></tr><tr style=\"background-color:#f7f7f7\"><td style=\"padding-right:10px;text-align:right;vertical-align:top\">2.</td><td style=\"vertical-align:top\">\"<a href=\"/wiki/Empty_Spaces\" title=\"Empty Spaces\">Empty Spaces</a>\"</td><td style=\"vertical-align:top\">Waters</td><td style=\"padding-right:10px;text-align:right;vertical-align:top\">2:10</td></tr><tr style=\"background-color:#fff\"><td style=\"padding-right:10px;text-align:right;vertical-align:top\">3.</td><td style=\"vertical-align:top\">\"<a href=\"/wiki/Young_Lust_(song)\" title=\"Young Lust (song)\">Young Lust</a>\" <span>(writers: Waters, Gilmour)</span></td><td style=\"vertical-align:top\">Gilmour</td><td style=\"padding-right:10px;text-align:right;vertical-align:top\">3:25</td></tr><tr style=\"background-color:#f7f7f7\"><td style=\"padding-right:10px;text-align:right;vertical-align:top\">4.</td><td style=\"vertical-align:top\">\"<a href=\"/wiki/One_of_My_Turns\" title=\"One of My Turns\">One of My Turns</a>\"</td><td style=\"vertical-align:top\">Waters</td><td style=\"padding-right:10px;text-align:right;vertical-align:top\">3:41</td></tr><tr style=\"background-color:#fff\"><td style=\"padding-right:10px;text-align:right;vertical-align:top\">5.</td><td style=\"vertical-align:top\">\"<a href=\"/wiki/Don%27t_Leave_Me_Now_(Pink_Floyd_song)\" title=\"Don't Leave Me Now (Pink Floyd song)\">Don't Leave Me Now</a>\"</td><td style=\"vertical-align:top\">Waters</td><td style=\"padding-right:10px;text-align:right;vertical-align:top\">4:08</td></tr><tr style=\"background-color:#f7f7f7\"><td style=\"padding-right:10px;text-align:right;vertical-align:top\">6.</td><td style=\"vertical-align:top\">\"<span class=\"nowrap\"><a href=\"/wiki/Another_Brick_in_the_Wall#Part_3\" title=\"Another Brick in the Wall\">Another Brick in the Wall, Part 3</a></span>\"</td><td style=\"vertical-align:top\">Waters</td><td style=\"padding-right:10px;text-align:right;vertical-align:top\">1:18</td></tr><tr style=\"background-color:#fff\"><td style=\"padding-right:10px;text-align:right;vertical-align:top\">7.</td><td style=\"vertical-align:top\">\"<a href=\"/wiki/Goodbye_Cruel_World_(Pink_Floyd_song)\" title=\"Goodbye Cruel World (Pink Floyd song)\">Goodbye Cruel World</a>\"</td><td style=\"vertical-align:top\">Waters</td><td style=\"padding-right:10px;text-align:right;vertical-align:top\">1:16</td></tr><tr><td colspan=\"3\" style=\"padding:0\"><span style=\"width:7.5em;float:right;padding-left:10px;background-color:#eee;margin-right:2px\"><b>Total length:</b></span></td><td style=\"padding:0 10px 0 0;text-align:right;background-color:#eee\"><b>18:43</b></td></tr></tbody></table>,\n",
       " <table class=\"tracklist\" style=\"display:block;border-spacing:0px\"><caption class=\"tlheader mbox-text\" style=\"text-align:left;background-color:#fff;font-weight:700\">Side three/Disc two</caption><tbody><tr><th class=\"tlheader\" scope=\"col\" style=\"width:2em;padding-left:10px;padding-right:10px;text-align:right;background-color:#eee\"><abbr title=\"Number\">No.</abbr></th><th class=\"tlheader\" scope=\"col\" style=\"width:60%;text-align:left;background-color:#eee\">Title</th><th class=\"tlheader\" scope=\"col\" style=\"width:40%;text-align:left;background-color:#eee\">Lead vocals</th><th class=\"tlheader\" scope=\"col\" style=\"width:4em;padding-right:10px;text-align:right;background-color:#eee\">Length</th></tr><tr style=\"background-color:#fff\"><td style=\"padding-right:10px;text-align:right;vertical-align:top\">1.</td><td style=\"vertical-align:top\">\"<a href=\"/wiki/Hey_You_(Pink_Floyd_song)\" title=\"Hey You (Pink Floyd song)\">Hey You</a>\"</td><td style=\"vertical-align:top\">Gilmour, Waters</td><td style=\"padding-right:10px;text-align:right;vertical-align:top\">4:40</td></tr><tr style=\"background-color:#f7f7f7\"><td style=\"padding-right:10px;text-align:right;vertical-align:top\">2.</td><td style=\"vertical-align:top\">\"<span class=\"nowrap\"><a href=\"/wiki/Is_There_Anybody_Out_There%3F\" title=\"Is There Anybody Out There?\">Is There Anybody Out There?</a></span>\"</td><td style=\"vertical-align:top\">Waters, Gilmour</td><td style=\"padding-right:10px;text-align:right;vertical-align:top\">2:44</td></tr><tr style=\"background-color:#fff\"><td style=\"padding-right:10px;text-align:right;vertical-align:top\">3.</td><td style=\"vertical-align:top\">\"<a href=\"/wiki/Nobody_Home\" title=\"Nobody Home\">Nobody Home</a>\"</td><td style=\"vertical-align:top\">Waters</td><td style=\"padding-right:10px;text-align:right;vertical-align:top\">3:26</td></tr><tr style=\"background-color:#f7f7f7\"><td style=\"padding-right:10px;text-align:right;vertical-align:top\">4.</td><td style=\"vertical-align:top\">\"<a href=\"/wiki/Vera_(song)\" title=\"Vera (song)\">Vera</a>\"</td><td style=\"vertical-align:top\">Waters</td><td style=\"padding-right:10px;text-align:right;vertical-align:top\">1:35</td></tr><tr style=\"background-color:#fff\"><td style=\"padding-right:10px;text-align:right;vertical-align:top\">5.</td><td style=\"vertical-align:top\">\"<a href=\"/wiki/Bring_the_Boys_Back_Home\" title=\"Bring the Boys Back Home\">Bring the Boys Back Home</a>\"</td><td style=\"vertical-align:top\">Waters</td><td style=\"padding-right:10px;text-align:right;vertical-align:top\">1:21</td></tr><tr style=\"background-color:#f7f7f7\"><td style=\"padding-right:10px;text-align:right;vertical-align:top\">6.</td><td style=\"vertical-align:top\">\"<a href=\"/wiki/Comfortably_Numb\" title=\"Comfortably Numb\">Comfortably Numb</a>\" <span>(writers: Gilmour, <span class=\"nowrap\">Waters</span>)</span></td><td style=\"vertical-align:top\">Gilmour, Waters</td><td style=\"padding-right:10px;text-align:right;vertical-align:top\">6:23</td></tr><tr><td colspan=\"3\" style=\"padding:0\"><span style=\"width:7.5em;float:right;padding-left:10px;background-color:#eee;margin-right:2px\"><b>Total length:</b></span></td><td style=\"padding:0 10px 0 0;text-align:right;background-color:#eee\"><b>20:09</b></td></tr></tbody></table>,\n",
       " <table class=\"tracklist\" style=\"display:block;border-spacing:0px\"><caption class=\"tlheader mbox-text\" style=\"text-align:left;background-color:#fff;font-weight:700\">Side four/Disc two</caption><tbody><tr><th class=\"tlheader\" scope=\"col\" style=\"width:2em;padding-left:10px;padding-right:10px;text-align:right;background-color:#eee\"><abbr title=\"Number\">No.</abbr></th><th class=\"tlheader\" scope=\"col\" style=\"width:60%;text-align:left;background-color:#eee\">Title</th><th class=\"tlheader\" scope=\"col\" style=\"width:40%;text-align:left;background-color:#eee\">Lead vocals</th><th class=\"tlheader\" scope=\"col\" style=\"width:4em;padding-right:10px;text-align:right;background-color:#eee\">Length</th></tr><tr style=\"background-color:#fff\"><td style=\"padding-right:10px;text-align:right;vertical-align:top\">1.</td><td style=\"vertical-align:top\">\"<span class=\"nowrap\"><a href=\"/wiki/The_Show_Must_Go_On_(Pink_Floyd_song)\" title=\"The Show Must Go On (Pink Floyd song)\">The Show Must Go On</a></span>\"</td><td style=\"vertical-align:top\">Gilmour</td><td style=\"padding-right:10px;text-align:right;vertical-align:top\">1:36</td></tr><tr style=\"background-color:#f7f7f7\"><td style=\"padding-right:10px;text-align:right;vertical-align:top\">2.</td><td style=\"vertical-align:top\">\"<a class=\"mw-redirect\" href=\"/wiki/In_the_Flesh_(Pink_Floyd_song)\" title=\"In the Flesh (Pink Floyd song)\">In the Flesh</a>\"</td><td style=\"vertical-align:top\">Waters</td><td style=\"padding-right:10px;text-align:right;vertical-align:top\">4:15</td></tr><tr style=\"background-color:#fff\"><td style=\"padding-right:10px;text-align:right;vertical-align:top\">3.</td><td style=\"vertical-align:top\">\"<a href=\"/wiki/Run_Like_Hell\" title=\"Run Like Hell\">Run Like Hell</a>\" <span>(writers: Gilmour, Waters)</span></td><td style=\"vertical-align:top\">Waters, Gilmour</td><td style=\"padding-right:10px;text-align:right;vertical-align:top\">4:20</td></tr><tr style=\"background-color:#f7f7f7\"><td style=\"padding-right:10px;text-align:right;vertical-align:top\">4.</td><td style=\"vertical-align:top\">\"<a href=\"/wiki/Waiting_for_the_Worms\" title=\"Waiting for the Worms\">Waiting for the Worms</a>\"</td><td style=\"vertical-align:top\">Waters, Gilmour</td><td style=\"padding-right:10px;text-align:right;vertical-align:top\">4:04</td></tr><tr style=\"background-color:#fff\"><td style=\"padding-right:10px;text-align:right;vertical-align:top\">5.</td><td style=\"vertical-align:top\">\"<a href=\"/wiki/Stop_(Pink_Floyd_song)\" title=\"Stop (Pink Floyd song)\">Stop</a>\"</td><td style=\"vertical-align:top\">Waters</td><td style=\"padding-right:10px;text-align:right;vertical-align:top\">0:30</td></tr><tr style=\"background-color:#f7f7f7\"><td style=\"padding-right:10px;text-align:right;vertical-align:top\">6.</td><td style=\"vertical-align:top\">\"<a href=\"/wiki/The_Trial_(song)\" title=\"The Trial (song)\">The Trial</a>\" <span>(writers: Waters, <a href=\"/wiki/Bob_Ezrin\" title=\"Bob Ezrin\">Bob Ezrin</a>)</span></td><td style=\"vertical-align:top\">Waters</td><td style=\"padding-right:10px;text-align:right;vertical-align:top\">5:13</td></tr><tr style=\"background-color:#fff\"><td style=\"padding-right:10px;text-align:right;vertical-align:top\">7.</td><td style=\"vertical-align:top\">\"<a href=\"/wiki/Outside_the_Wall_(song)\" title=\"Outside the Wall (song)\">Outside the Wall</a>\"</td><td style=\"vertical-align:top\">Waters</td><td style=\"padding-right:10px;text-align:right;vertical-align:top\">1:41</td></tr><tr><td colspan=\"3\" style=\"padding:0\"><span style=\"width:7.5em;float:right;padding-left:10px;background-color:#eee;margin-right:2px\"><b>Total length:</b></span></td><td style=\"padding:0 10px 0 0;text-align:right;background-color:#eee\"><b>21:39</b></td></tr></tbody></table>]"
      ]
     },
     "execution_count": 3,
     "metadata": {},
     "output_type": "execute_result"
    }
   ],
   "source": [
    "# what does that variable look like?\n",
    "a"
   ]
  },
  {
   "cell_type": "code",
   "execution_count": 4,
   "metadata": {},
   "outputs": [],
   "source": [
    "# the tr tag looks important so I am creating a list of them\n",
    "b=[]\n",
    "for i in a:\n",
    "    b.append(i.find_all('tr'))"
   ]
  },
  {
   "cell_type": "code",
   "execution_count": 5,
   "metadata": {},
   "outputs": [
    {
     "data": {
      "text/plain": [
       "[<tr><th class=\"tlheader\" scope=\"col\" style=\"width:2em;padding-left:10px;padding-right:10px;text-align:right;background-color:#eee\"><abbr title=\"Number\">No.</abbr></th><th class=\"tlheader\" scope=\"col\" style=\"width:60%;text-align:left;background-color:#eee\">Title</th><th class=\"tlheader\" scope=\"col\" style=\"width:40%;text-align:left;background-color:#eee\">Lead vocals</th><th class=\"tlheader\" scope=\"col\" style=\"width:4em;padding-right:10px;text-align:right;background-color:#eee\">Length</th></tr>,\n",
       " <tr style=\"background-color:#fff\"><td style=\"padding-right:10px;text-align:right;vertical-align:top\">1.</td><td style=\"vertical-align:top\">\"<a href=\"/wiki/In_the_Flesh%3F\" title=\"In the Flesh?\">In the Flesh?</a>\"</td><td style=\"vertical-align:top\">Waters</td><td style=\"padding-right:10px;text-align:right;vertical-align:top\">3:16</td></tr>,\n",
       " <tr style=\"background-color:#f7f7f7\"><td style=\"padding-right:10px;text-align:right;vertical-align:top\">2.</td><td style=\"vertical-align:top\">\"<a href=\"/wiki/The_Thin_Ice\" title=\"The Thin Ice\">The Thin Ice</a>\"</td><td style=\"vertical-align:top\"><div class=\"hlist hlist-separated\">\n",
       " <ul><li>Waters</li>\n",
       " <li><a href=\"/wiki/David_Gilmour\" title=\"David Gilmour\">David Gilmour</a></li></ul>\n",
       " </div></td><td style=\"padding-right:10px;text-align:right;vertical-align:top\">2:27</td></tr>,\n",
       " <tr style=\"background-color:#fff\"><td style=\"padding-right:10px;text-align:right;vertical-align:top\">3.</td><td style=\"vertical-align:top\">\"<a href=\"/wiki/Another_Brick_in_the_Wall#Part_1\" title=\"Another Brick in the Wall\">Another Brick in the Wall, Part 1</a>\"</td><td style=\"vertical-align:top\">Waters</td><td style=\"padding-right:10px;text-align:right;vertical-align:top\">3:11</td></tr>,\n",
       " <tr style=\"background-color:#f7f7f7\"><td style=\"padding-right:10px;text-align:right;vertical-align:top\">4.</td><td style=\"vertical-align:top\">\"<a href=\"/wiki/The_Happiest_Days_of_Our_Lives\" title=\"The Happiest Days of Our Lives\">The Happiest Days of Our Lives</a>\"</td><td style=\"vertical-align:top\">Waters</td><td style=\"padding-right:10px;text-align:right;vertical-align:top\">1:46</td></tr>,\n",
       " <tr style=\"background-color:#fff\"><td style=\"padding-right:10px;text-align:right;vertical-align:top\">5.</td><td style=\"vertical-align:top\">\"<span class=\"nowrap\"><a href=\"/wiki/Another_Brick_in_the_Wall#Part_2\" title=\"Another Brick in the Wall\">Another Brick in the Wall, Part 2</a></span>\"</td><td style=\"vertical-align:top\"><div class=\"hlist hlist-separated\">\n",
       " <ul><li>Waters</li>\n",
       " <li>Gilmour</li></ul>\n",
       " </div></td><td style=\"padding-right:10px;text-align:right;vertical-align:top\">3:59</td></tr>,\n",
       " <tr style=\"background-color:#f7f7f7\"><td style=\"padding-right:10px;text-align:right;vertical-align:top\">6.</td><td style=\"vertical-align:top\">\"<a href=\"/wiki/Mother_(Pink_Floyd_song)\" title=\"Mother (Pink Floyd song)\">Mother</a>\"</td><td style=\"vertical-align:top\"><div class=\"hlist hlist-separated\">\n",
       " <ul><li>Waters</li>\n",
       " <li>Gilmour</li></ul>\n",
       " </div></td><td style=\"padding-right:10px;text-align:right;vertical-align:top\">5:32</td></tr>,\n",
       " <tr><td colspan=\"3\" style=\"padding:0\"><span style=\"width:7.5em;float:right;padding-left:10px;background-color:#eee;margin-right:2px\"><b>Total length:</b></span></td><td style=\"padding:0 10px 0 0;text-align:right;background-color:#eee\"><b>20:11</b></td></tr>]"
      ]
     },
     "execution_count": 5,
     "metadata": {},
     "output_type": "execute_result"
    }
   ],
   "source": [
    "# tr tag list at first index\n",
    "b[0]"
   ]
  },
  {
   "cell_type": "code",
   "execution_count": 6,
   "metadata": {},
   "outputs": [
    {
     "data": {
      "text/plain": [
       "8"
      ]
     },
     "execution_count": 6,
     "metadata": {},
     "output_type": "execute_result"
    }
   ],
   "source": [
    "# how long is this b object\n",
    "len(b[0])"
   ]
  },
  {
   "cell_type": "code",
   "execution_count": 7,
   "metadata": {},
   "outputs": [
    {
     "data": {
      "text/plain": [
       "<tr style=\"background-color:#fff\"><td style=\"padding-right:10px;text-align:right;vertical-align:top\">1.</td><td style=\"vertical-align:top\">\"<a href=\"/wiki/In_the_Flesh%3F\" title=\"In the Flesh?\">In the Flesh?</a>\"</td><td style=\"vertical-align:top\">Waters</td><td style=\"padding-right:10px;text-align:right;vertical-align:top\">3:16</td></tr>"
      ]
     },
     "execution_count": 7,
     "metadata": {},
     "output_type": "execute_result"
    }
   ],
   "source": [
    "# investigating b\n",
    "b[0][1]"
   ]
  },
  {
   "cell_type": "code",
   "execution_count": 8,
   "metadata": {},
   "outputs": [
    {
     "data": {
      "text/plain": [
       "[<a href=\"/wiki/In_the_Flesh%3F\" title=\"In the Flesh?\">In the Flesh?</a>]"
      ]
     },
     "execution_count": 8,
     "metadata": {},
     "output_type": "execute_result"
    }
   ],
   "source": [
    "# investigating b\n",
    "b[0][1].find_all('a')"
   ]
  },
  {
   "cell_type": "code",
   "execution_count": 9,
   "metadata": {},
   "outputs": [
    {
     "data": {
      "text/plain": [
       "<a href=\"/wiki/In_the_Flesh%3F\" title=\"In the Flesh?\">In the Flesh?</a>"
      ]
     },
     "execution_count": 9,
     "metadata": {},
     "output_type": "execute_result"
    }
   ],
   "source": [
    "# investigating b\n",
    "b[0][1].find_all('a')[0]"
   ]
  },
  {
   "cell_type": "code",
   "execution_count": 10,
   "metadata": {},
   "outputs": [
    {
     "data": {
      "text/plain": [
       "'/wiki/In_the_Flesh%3F'"
      ]
     },
     "execution_count": 10,
     "metadata": {},
     "output_type": "execute_result"
    }
   ],
   "source": [
    "# investigating b\n",
    "b[0][1].find_all('a')[0]['href']"
   ]
  },
  {
   "cell_type": "code",
   "execution_count": 11,
   "metadata": {},
   "outputs": [
    {
     "data": {
      "text/plain": [
       "'In the Flesh?'"
      ]
     },
     "execution_count": 11,
     "metadata": {},
     "output_type": "execute_result"
    }
   ],
   "source": [
    "# investigating b\n",
    "b[0][1].find_all('a')[0]['title']"
   ]
  },
  {
   "cell_type": "code",
   "execution_count": 12,
   "metadata": {},
   "outputs": [
    {
     "data": {
      "text/plain": [
       "'Another Brick in the Wall'"
      ]
     },
     "execution_count": 12,
     "metadata": {},
     "output_type": "execute_result"
    }
   ],
   "source": [
    "# investigating b\n",
    "b[0][3].find_all('a')[0]['title']"
   ]
  },
  {
   "cell_type": "code",
   "execution_count": 13,
   "metadata": {},
   "outputs": [
    {
     "data": {
      "text/plain": [
       "'One of My Turns'"
      ]
     },
     "execution_count": 13,
     "metadata": {},
     "output_type": "execute_result"
    }
   ],
   "source": [
    "# investigating b\n",
    "b[1][4].find_all('a')[0]['title']"
   ]
  },
  {
   "cell_type": "code",
   "execution_count": 14,
   "metadata": {},
   "outputs": [
    {
     "data": {
      "text/plain": [
       "'Vera (song)'"
      ]
     },
     "execution_count": 14,
     "metadata": {},
     "output_type": "execute_result"
    }
   ],
   "source": [
    "# investigating b\n",
    "b[2][4].find_all('a')[0]['title']"
   ]
  },
  {
   "cell_type": "code",
   "execution_count": 15,
   "metadata": {},
   "outputs": [
    {
     "data": {
      "text/plain": [
       "'Outside the Wall (song)'"
      ]
     },
     "execution_count": 15,
     "metadata": {},
     "output_type": "execute_result"
    }
   ],
   "source": [
    "# investigating b\n",
    "b[3][7].find_all('a')[0]['title']"
   ]
  },
  {
   "cell_type": "code",
   "execution_count": 16,
   "metadata": {},
   "outputs": [
    {
     "data": {
      "text/plain": [
       "8"
      ]
     },
     "execution_count": 16,
     "metadata": {},
     "output_type": "execute_result"
    }
   ],
   "source": [
    "# investigating b\n",
    "len(b[0])"
   ]
  },
  {
   "cell_type": "code",
   "execution_count": 17,
   "metadata": {},
   "outputs": [
    {
     "data": {
      "text/plain": [
       "4"
      ]
     },
     "execution_count": 17,
     "metadata": {},
     "output_type": "execute_result"
    }
   ],
   "source": [
    "# investigating b\n",
    "len(b)"
   ]
  },
  {
   "cell_type": "code",
   "execution_count": 18,
   "metadata": {},
   "outputs": [
    {
     "data": {
      "text/plain": [
       "'In the Flesh?'"
      ]
     },
     "execution_count": 18,
     "metadata": {},
     "output_type": "execute_result"
    }
   ],
   "source": [
    "# investigating b\n",
    "b[0][1].find_all('a')[0]['title']"
   ]
  },
  {
   "cell_type": "code",
   "execution_count": 19,
   "metadata": {},
   "outputs": [],
   "source": [
    "# okay - so after a lot of uess and check - I think I made a function to scrape tracklists\n",
    "def scrape_songs(html):\n",
    "    \n",
    "    import requests\n",
    "    import urllib.request\n",
    "    import time\n",
    "    from bs4 import BeautifulSoup\n",
    "    import numpy as np\n",
    "    import pandas as pd\n",
    "    from urllib.request import urlopen\n",
    "    url = html\n",
    "    html = urlopen(url) \n",
    "    soup = BeautifulSoup(html, 'html.parser')\n",
    "    \n",
    "    a=soup.find_all('table',class_='tracklist')\n",
    "    \n",
    "    b=[]\n",
    "    for i in a:\n",
    "        b.append(i.find_all('tr'))\n",
    "        \n",
    "    #b[0][1].find_all('a')[0]['title']\n",
    "    \n",
    "    track_lst=[]\n",
    "    \n",
    "    z=1\n",
    "    \n",
    "    for i in range(len(b)):\n",
    "        for j in range(len(b[i])):\n",
    "            try:\n",
    "                track_lst.append(b[i][j].find_all('a')[0]['title'])\n",
    "\n",
    "            except:\n",
    "                z=z+1\n",
    "    \n",
    "    return track_lst"
   ]
  },
  {
   "cell_type": "code",
   "execution_count": 33,
   "metadata": {},
   "outputs": [],
   "source": [
    "# interactive song scraping function\n",
    "def interactive_scrape():\n",
    "    multi_band = str(input(prompt='Do multiple bands have this album name?'))\n",
    "    \n",
    "    if multi_band not in ['y','yes','Y','Yes']:\n",
    "        album = str(input(prompt='Write down the album you like.')).replace(' ','_')\n",
    "        html=\"https://en.wikipedia.org/wiki/\"+''+album\n",
    "    else:\n",
    "        album = str(input(prompt='Write down the album you like.')).replace(' ','_')\n",
    "        band = str(input(prompt='Write down the band name on this album.')).replace(' ','_')\n",
    "        html=\"https://en.wikipedia.org/wiki/\"+''+album+f'_({band}_album)'\n",
    "    \n",
    "    return scrape_songs(html)"
   ]
  },
  {
   "cell_type": "code",
   "execution_count": 34,
   "metadata": {},
   "outputs": [
    {
     "name": "stdin",
     "output_type": "stream",
     "text": [
      "Do multiple bands have this album name? y\n",
      "Write down the album you like. Lover\n",
      "Write down the band name on this album. Taylor Swift\n"
     ]
    },
    {
     "data": {
      "text/plain": [
       "['Taylor Swift',\n",
       " 'Cruel Summer (Taylor Swift song)',\n",
       " 'Lover (Taylor Swift song)',\n",
       " 'The Man (Taylor Swift song)',\n",
       " 'The Archer (song)',\n",
       " 'Miss Americana & the Heartbreak Prince',\n",
       " 'Cautious Clay',\n",
       " \"Soon You'll Get Better\",\n",
       " 'You Need to Calm Down',\n",
       " 'Me!',\n",
       " 'Dave Meyers (director)']"
      ]
     },
     "execution_count": 34,
     "metadata": {},
     "output_type": "execute_result"
    }
   ],
   "source": [
    "interactive_scrape()"
   ]
  }
 ],
 "metadata": {
  "kernelspec": {
   "display_name": "Python 3",
   "language": "python",
   "name": "python3"
  },
  "language_info": {
   "codemirror_mode": {
    "name": "ipython",
    "version": 3
   },
   "file_extension": ".py",
   "mimetype": "text/x-python",
   "name": "python",
   "nbconvert_exporter": "python",
   "pygments_lexer": "ipython3",
   "version": "3.7.6"
  }
 },
 "nbformat": 4,
 "nbformat_minor": 4
}
